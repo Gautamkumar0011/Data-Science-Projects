{
 "cells": [
  {
   "cell_type": "markdown",
   "id": "24d14631",
   "metadata": {},
   "source": [
    "# Initial Steps"
   ]
  },
  {
   "cell_type": "code",
   "execution_count": 1,
   "id": "d79ee397",
   "metadata": {},
   "outputs": [],
   "source": [
    "import pandas as pd\n",
    "import numpy as np\n",
    "import matplotlib.pyplot as plt\n",
    "from statsmodels.tsa.seasonal import seasonal_decompose\n",
    "from statsmodels.tsa.holtwinters import SimpleExpSmoothing # SES\n",
    "from statsmodels.tsa.holtwinters import Holt # Holts Exponential Smoothing\n",
    "from statsmodels.tsa.holtwinters import ExponentialSmoothing # Holt Winter's Exponential Smoothing"
   ]
  },
  {
   "cell_type": "markdown",
   "id": "d3215e61",
   "metadata": {},
   "source": [
    "Loading Data"
   ]
  },
  {
   "cell_type": "code",
   "execution_count": 2,
   "id": "c24289ef",
   "metadata": {},
   "outputs": [
    {
     "data": {
      "text/html": [
       "<div>\n",
       "<style scoped>\n",
       "    .dataframe tbody tr th:only-of-type {\n",
       "        vertical-align: middle;\n",
       "    }\n",
       "\n",
       "    .dataframe tbody tr th {\n",
       "        vertical-align: top;\n",
       "    }\n",
       "\n",
       "    .dataframe thead th {\n",
       "        text-align: right;\n",
       "    }\n",
       "</style>\n",
       "<table border=\"1\" class=\"dataframe\">\n",
       "  <thead>\n",
       "    <tr style=\"text-align: right;\">\n",
       "      <th></th>\n",
       "      <th>quantity</th>\n",
       "    </tr>\n",
       "    <tr>\n",
       "      <th>date</th>\n",
       "      <th></th>\n",
       "    </tr>\n",
       "  </thead>\n",
       "  <tbody>\n",
       "    <tr>\n",
       "      <th>2019-12-01</th>\n",
       "      <td>11120</td>\n",
       "    </tr>\n",
       "    <tr>\n",
       "      <th>2020-01-01</th>\n",
       "      <td>13043</td>\n",
       "    </tr>\n",
       "    <tr>\n",
       "      <th>2020-02-01</th>\n",
       "      <td>12231</td>\n",
       "    </tr>\n",
       "    <tr>\n",
       "      <th>2020-03-01</th>\n",
       "      <td>12868</td>\n",
       "    </tr>\n",
       "    <tr>\n",
       "      <th>2020-04-01</th>\n",
       "      <td>11731</td>\n",
       "    </tr>\n",
       "    <tr>\n",
       "      <th>2020-05-01</th>\n",
       "      <td>12185</td>\n",
       "    </tr>\n",
       "    <tr>\n",
       "      <th>2020-06-01</th>\n",
       "      <td>11984</td>\n",
       "    </tr>\n",
       "    <tr>\n",
       "      <th>2020-07-01</th>\n",
       "      <td>12559</td>\n",
       "    </tr>\n",
       "    <tr>\n",
       "      <th>2020-08-01</th>\n",
       "      <td>12554</td>\n",
       "    </tr>\n",
       "    <tr>\n",
       "      <th>2020-09-01</th>\n",
       "      <td>12177</td>\n",
       "    </tr>\n",
       "    <tr>\n",
       "      <th>2020-10-01</th>\n",
       "      <td>12821</td>\n",
       "    </tr>\n",
       "    <tr>\n",
       "      <th>2020-11-01</th>\n",
       "      <td>13873</td>\n",
       "    </tr>\n",
       "    <tr>\n",
       "      <th>2020-12-01</th>\n",
       "      <td>12348</td>\n",
       "    </tr>\n",
       "    <tr>\n",
       "      <th>2021-01-01</th>\n",
       "      <td>14271</td>\n",
       "    </tr>\n",
       "    <tr>\n",
       "      <th>2021-02-01</th>\n",
       "      <td>13459</td>\n",
       "    </tr>\n",
       "    <tr>\n",
       "      <th>2021-03-01</th>\n",
       "      <td>14096</td>\n",
       "    </tr>\n",
       "    <tr>\n",
       "      <th>2021-04-01</th>\n",
       "      <td>12959</td>\n",
       "    </tr>\n",
       "    <tr>\n",
       "      <th>2021-05-01</th>\n",
       "      <td>13413</td>\n",
       "    </tr>\n",
       "    <tr>\n",
       "      <th>2021-06-01</th>\n",
       "      <td>13213</td>\n",
       "    </tr>\n",
       "    <tr>\n",
       "      <th>2021-07-01</th>\n",
       "      <td>13787</td>\n",
       "    </tr>\n",
       "    <tr>\n",
       "      <th>2021-08-01</th>\n",
       "      <td>13782</td>\n",
       "    </tr>\n",
       "    <tr>\n",
       "      <th>2021-09-01</th>\n",
       "      <td>13405</td>\n",
       "    </tr>\n",
       "    <tr>\n",
       "      <th>2021-10-01</th>\n",
       "      <td>14049</td>\n",
       "    </tr>\n",
       "    <tr>\n",
       "      <th>2021-11-01</th>\n",
       "      <td>15101</td>\n",
       "    </tr>\n",
       "    <tr>\n",
       "      <th>2021-12-01</th>\n",
       "      <td>13576</td>\n",
       "    </tr>\n",
       "    <tr>\n",
       "      <th>2022-01-01</th>\n",
       "      <td>15499</td>\n",
       "    </tr>\n",
       "    <tr>\n",
       "      <th>2022-02-01</th>\n",
       "      <td>14687</td>\n",
       "    </tr>\n",
       "    <tr>\n",
       "      <th>2022-03-01</th>\n",
       "      <td>15324</td>\n",
       "    </tr>\n",
       "    <tr>\n",
       "      <th>2022-04-01</th>\n",
       "      <td>14187</td>\n",
       "    </tr>\n",
       "    <tr>\n",
       "      <th>2022-05-01</th>\n",
       "      <td>14642</td>\n",
       "    </tr>\n",
       "    <tr>\n",
       "      <th>2022-06-01</th>\n",
       "      <td>14441</td>\n",
       "    </tr>\n",
       "    <tr>\n",
       "      <th>2022-07-01</th>\n",
       "      <td>15015</td>\n",
       "    </tr>\n",
       "    <tr>\n",
       "      <th>2022-08-01</th>\n",
       "      <td>15011</td>\n",
       "    </tr>\n",
       "    <tr>\n",
       "      <th>2022-09-01</th>\n",
       "      <td>14633</td>\n",
       "    </tr>\n",
       "    <tr>\n",
       "      <th>2022-10-01</th>\n",
       "      <td>15277</td>\n",
       "    </tr>\n",
       "    <tr>\n",
       "      <th>2022-11-01</th>\n",
       "      <td>16330</td>\n",
       "    </tr>\n",
       "  </tbody>\n",
       "</table>\n",
       "</div>"
      ],
      "text/plain": [
       "            quantity\n",
       "date                \n",
       "2019-12-01     11120\n",
       "2020-01-01     13043\n",
       "2020-02-01     12231\n",
       "2020-03-01     12868\n",
       "2020-04-01     11731\n",
       "2020-05-01     12185\n",
       "2020-06-01     11984\n",
       "2020-07-01     12559\n",
       "2020-08-01     12554\n",
       "2020-09-01     12177\n",
       "2020-10-01     12821\n",
       "2020-11-01     13873\n",
       "2020-12-01     12348\n",
       "2021-01-01     14271\n",
       "2021-02-01     13459\n",
       "2021-03-01     14096\n",
       "2021-04-01     12959\n",
       "2021-05-01     13413\n",
       "2021-06-01     13213\n",
       "2021-07-01     13787\n",
       "2021-08-01     13782\n",
       "2021-09-01     13405\n",
       "2021-10-01     14049\n",
       "2021-11-01     15101\n",
       "2021-12-01     13576\n",
       "2022-01-01     15499\n",
       "2022-02-01     14687\n",
       "2022-03-01     15324\n",
       "2022-04-01     14187\n",
       "2022-05-01     14642\n",
       "2022-06-01     14441\n",
       "2022-07-01     15015\n",
       "2022-08-01     15011\n",
       "2022-09-01     14633\n",
       "2022-10-01     15277\n",
       "2022-11-01     16330"
      ]
     },
     "execution_count": 2,
     "metadata": {},
     "output_type": "execute_result"
    }
   ],
   "source": [
    "df = pd.read_csv(r\"C:\\Users\\hp\\Downloads\\1111\\Allot\\plastic\\cleaned_monthly_Plastic_data.csv\", parse_dates=['date'])\n",
    "df = df.set_index('date')\n",
    "df"
   ]
  },
  {
   "cell_type": "markdown",
   "id": "f5788b1e",
   "metadata": {},
   "source": [
    "# Preparing Data For Data Driven Forecasting"
   ]
  },
  {
   "cell_type": "markdown",
   "id": "2724b364",
   "metadata": {},
   "source": [
    "## Importing Required Libraries"
   ]
  },
  {
   "cell_type": "markdown",
   "id": "74445228",
   "metadata": {},
   "source": [
    "## Creating MAPE Function"
   ]
  },
  {
   "cell_type": "code",
   "execution_count": 3,
   "id": "14714fe4",
   "metadata": {},
   "outputs": [],
   "source": [
    "# Creating a function to calculate the MAPE value for test data \n",
    "def MAPE(pred, org):\n",
    "    temp = np.abs((pred-org)/org)*100\n",
    "    return np.mean(temp)"
   ]
  },
  {
   "cell_type": "markdown",
   "id": "48c17c97",
   "metadata": {},
   "source": [
    "## Splitting Data"
   ]
  },
  {
   "cell_type": "code",
   "execution_count": 4,
   "id": "c25d7b83",
   "metadata": {},
   "outputs": [
    {
     "data": {
      "text/html": [
       "<div>\n",
       "<style scoped>\n",
       "    .dataframe tbody tr th:only-of-type {\n",
       "        vertical-align: middle;\n",
       "    }\n",
       "\n",
       "    .dataframe tbody tr th {\n",
       "        vertical-align: top;\n",
       "    }\n",
       "\n",
       "    .dataframe thead th {\n",
       "        text-align: right;\n",
       "    }\n",
       "</style>\n",
       "<table border=\"1\" class=\"dataframe\">\n",
       "  <thead>\n",
       "    <tr style=\"text-align: right;\">\n",
       "      <th></th>\n",
       "      <th>quantity</th>\n",
       "    </tr>\n",
       "    <tr>\n",
       "      <th>date</th>\n",
       "      <th></th>\n",
       "    </tr>\n",
       "  </thead>\n",
       "  <tbody>\n",
       "    <tr>\n",
       "      <th>2019-12-01</th>\n",
       "      <td>11120</td>\n",
       "    </tr>\n",
       "    <tr>\n",
       "      <th>2020-01-01</th>\n",
       "      <td>13043</td>\n",
       "    </tr>\n",
       "    <tr>\n",
       "      <th>2020-02-01</th>\n",
       "      <td>12231</td>\n",
       "    </tr>\n",
       "    <tr>\n",
       "      <th>2020-03-01</th>\n",
       "      <td>12868</td>\n",
       "    </tr>\n",
       "    <tr>\n",
       "      <th>2020-04-01</th>\n",
       "      <td>11731</td>\n",
       "    </tr>\n",
       "    <tr>\n",
       "      <th>2020-05-01</th>\n",
       "      <td>12185</td>\n",
       "    </tr>\n",
       "    <tr>\n",
       "      <th>2020-06-01</th>\n",
       "      <td>11984</td>\n",
       "    </tr>\n",
       "    <tr>\n",
       "      <th>2020-07-01</th>\n",
       "      <td>12559</td>\n",
       "    </tr>\n",
       "    <tr>\n",
       "      <th>2020-08-01</th>\n",
       "      <td>12554</td>\n",
       "    </tr>\n",
       "    <tr>\n",
       "      <th>2020-09-01</th>\n",
       "      <td>12177</td>\n",
       "    </tr>\n",
       "    <tr>\n",
       "      <th>2020-10-01</th>\n",
       "      <td>12821</td>\n",
       "    </tr>\n",
       "    <tr>\n",
       "      <th>2020-11-01</th>\n",
       "      <td>13873</td>\n",
       "    </tr>\n",
       "    <tr>\n",
       "      <th>2020-12-01</th>\n",
       "      <td>12348</td>\n",
       "    </tr>\n",
       "    <tr>\n",
       "      <th>2021-01-01</th>\n",
       "      <td>14271</td>\n",
       "    </tr>\n",
       "    <tr>\n",
       "      <th>2021-02-01</th>\n",
       "      <td>13459</td>\n",
       "    </tr>\n",
       "    <tr>\n",
       "      <th>2021-03-01</th>\n",
       "      <td>14096</td>\n",
       "    </tr>\n",
       "    <tr>\n",
       "      <th>2021-04-01</th>\n",
       "      <td>12959</td>\n",
       "    </tr>\n",
       "    <tr>\n",
       "      <th>2021-05-01</th>\n",
       "      <td>13413</td>\n",
       "    </tr>\n",
       "    <tr>\n",
       "      <th>2021-06-01</th>\n",
       "      <td>13213</td>\n",
       "    </tr>\n",
       "    <tr>\n",
       "      <th>2021-07-01</th>\n",
       "      <td>13787</td>\n",
       "    </tr>\n",
       "    <tr>\n",
       "      <th>2021-08-01</th>\n",
       "      <td>13782</td>\n",
       "    </tr>\n",
       "    <tr>\n",
       "      <th>2021-09-01</th>\n",
       "      <td>13405</td>\n",
       "    </tr>\n",
       "    <tr>\n",
       "      <th>2021-10-01</th>\n",
       "      <td>14049</td>\n",
       "    </tr>\n",
       "    <tr>\n",
       "      <th>2021-11-01</th>\n",
       "      <td>15101</td>\n",
       "    </tr>\n",
       "  </tbody>\n",
       "</table>\n",
       "</div>"
      ],
      "text/plain": [
       "            quantity\n",
       "date                \n",
       "2019-12-01     11120\n",
       "2020-01-01     13043\n",
       "2020-02-01     12231\n",
       "2020-03-01     12868\n",
       "2020-04-01     11731\n",
       "2020-05-01     12185\n",
       "2020-06-01     11984\n",
       "2020-07-01     12559\n",
       "2020-08-01     12554\n",
       "2020-09-01     12177\n",
       "2020-10-01     12821\n",
       "2020-11-01     13873\n",
       "2020-12-01     12348\n",
       "2021-01-01     14271\n",
       "2021-02-01     13459\n",
       "2021-03-01     14096\n",
       "2021-04-01     12959\n",
       "2021-05-01     13413\n",
       "2021-06-01     13213\n",
       "2021-07-01     13787\n",
       "2021-08-01     13782\n",
       "2021-09-01     13405\n",
       "2021-10-01     14049\n",
       "2021-11-01     15101"
      ]
     },
     "execution_count": 4,
     "metadata": {},
     "output_type": "execute_result"
    }
   ],
   "source": [
    "Train = df.drop(df.tail(12).index)\n",
    "Train"
   ]
  },
  {
   "cell_type": "code",
   "execution_count": 5,
   "id": "72afe951",
   "metadata": {},
   "outputs": [
    {
     "data": {
      "text/html": [
       "<div>\n",
       "<style scoped>\n",
       "    .dataframe tbody tr th:only-of-type {\n",
       "        vertical-align: middle;\n",
       "    }\n",
       "\n",
       "    .dataframe tbody tr th {\n",
       "        vertical-align: top;\n",
       "    }\n",
       "\n",
       "    .dataframe thead th {\n",
       "        text-align: right;\n",
       "    }\n",
       "</style>\n",
       "<table border=\"1\" class=\"dataframe\">\n",
       "  <thead>\n",
       "    <tr style=\"text-align: right;\">\n",
       "      <th></th>\n",
       "      <th>quantity</th>\n",
       "    </tr>\n",
       "    <tr>\n",
       "      <th>date</th>\n",
       "      <th></th>\n",
       "    </tr>\n",
       "  </thead>\n",
       "  <tbody>\n",
       "    <tr>\n",
       "      <th>2021-12-01</th>\n",
       "      <td>13576</td>\n",
       "    </tr>\n",
       "    <tr>\n",
       "      <th>2022-01-01</th>\n",
       "      <td>15499</td>\n",
       "    </tr>\n",
       "    <tr>\n",
       "      <th>2022-02-01</th>\n",
       "      <td>14687</td>\n",
       "    </tr>\n",
       "    <tr>\n",
       "      <th>2022-03-01</th>\n",
       "      <td>15324</td>\n",
       "    </tr>\n",
       "    <tr>\n",
       "      <th>2022-04-01</th>\n",
       "      <td>14187</td>\n",
       "    </tr>\n",
       "    <tr>\n",
       "      <th>2022-05-01</th>\n",
       "      <td>14642</td>\n",
       "    </tr>\n",
       "    <tr>\n",
       "      <th>2022-06-01</th>\n",
       "      <td>14441</td>\n",
       "    </tr>\n",
       "    <tr>\n",
       "      <th>2022-07-01</th>\n",
       "      <td>15015</td>\n",
       "    </tr>\n",
       "    <tr>\n",
       "      <th>2022-08-01</th>\n",
       "      <td>15011</td>\n",
       "    </tr>\n",
       "    <tr>\n",
       "      <th>2022-09-01</th>\n",
       "      <td>14633</td>\n",
       "    </tr>\n",
       "    <tr>\n",
       "      <th>2022-10-01</th>\n",
       "      <td>15277</td>\n",
       "    </tr>\n",
       "    <tr>\n",
       "      <th>2022-11-01</th>\n",
       "      <td>16330</td>\n",
       "    </tr>\n",
       "  </tbody>\n",
       "</table>\n",
       "</div>"
      ],
      "text/plain": [
       "            quantity\n",
       "date                \n",
       "2021-12-01     13576\n",
       "2022-01-01     15499\n",
       "2022-02-01     14687\n",
       "2022-03-01     15324\n",
       "2022-04-01     14187\n",
       "2022-05-01     14642\n",
       "2022-06-01     14441\n",
       "2022-07-01     15015\n",
       "2022-08-01     15011\n",
       "2022-09-01     14633\n",
       "2022-10-01     15277\n",
       "2022-11-01     16330"
      ]
     },
     "execution_count": 5,
     "metadata": {},
     "output_type": "execute_result"
    }
   ],
   "source": [
    "Test = df.tail(12)\n",
    "Test"
   ]
  },
  {
   "cell_type": "markdown",
   "id": "b5f9ae79",
   "metadata": {},
   "source": [
    "# Model Building"
   ]
  },
  {
   "cell_type": "markdown",
   "id": "d69b1f61",
   "metadata": {},
   "source": [
    "## 1. Moving Average"
   ]
  },
  {
   "cell_type": "code",
   "execution_count": 6,
   "id": "a6ed7cfe",
   "metadata": {},
   "outputs": [
    {
     "data": {
      "text/plain": [
       "3.921720218730711"
      ]
     },
     "execution_count": 6,
     "metadata": {},
     "output_type": "execute_result"
    }
   ],
   "source": [
    "# Moving Average for the time series\n",
    "mv_pred = df[\"quantity\"].rolling(12).mean()\n",
    "mv_pred.tail(12)\n",
    "MAPE(mv_pred.tail(12), Test.quantity)"
   ]
  },
  {
   "cell_type": "markdown",
   "id": "1a4b1d20",
   "metadata": {},
   "source": [
    "## 2. Simple Exponential Smoothing"
   ]
  },
  {
   "cell_type": "code",
   "execution_count": 7,
   "id": "f46541f2",
   "metadata": {},
   "outputs": [
    {
     "name": "stderr",
     "output_type": "stream",
     "text": [
      "C:\\Users\\hp\\anaconda3\\lib\\site-packages\\statsmodels\\tsa\\base\\tsa_model.py:471: ValueWarning: No frequency information was provided, so inferred frequency MS will be used.\n",
      "  self._init_dates(dates, freq)\n"
     ]
    },
    {
     "data": {
      "text/plain": [
       "5.692896445147157"
      ]
     },
     "execution_count": 7,
     "metadata": {},
     "output_type": "execute_result"
    }
   ],
   "source": [
    "ses_model = SimpleExpSmoothing(Train[\"quantity\"]).fit()\n",
    "pred_ses = ses_model.predict(start = Test.index[0], end = Test.index[-1])\n",
    "MAPE(pred_ses, Test.quantity)"
   ]
  },
  {
   "cell_type": "markdown",
   "id": "d4a4bf76",
   "metadata": {},
   "source": [
    "## 3. Holt's method "
   ]
  },
  {
   "cell_type": "code",
   "execution_count": 8,
   "id": "20c45c60",
   "metadata": {},
   "outputs": [
    {
     "name": "stderr",
     "output_type": "stream",
     "text": [
      "C:\\Users\\hp\\anaconda3\\lib\\site-packages\\statsmodels\\tsa\\base\\tsa_model.py:471: ValueWarning: No frequency information was provided, so inferred frequency MS will be used.\n",
      "  self._init_dates(dates, freq)\n"
     ]
    },
    {
     "data": {
      "text/plain": [
       "15.566496264876754"
      ]
     },
     "execution_count": 8,
     "metadata": {},
     "output_type": "execute_result"
    }
   ],
   "source": [
    "hw_model = Holt(Train[\"quantity\"]).fit()\n",
    "pred_hw = hw_model.predict(start = Test.index[0], end = Test.index[-1])\n",
    "MAPE(pred_hw, Test.quantity) "
   ]
  },
  {
   "cell_type": "markdown",
   "id": "f9021ede",
   "metadata": {},
   "source": [
    "## 4. Holts Winter Exponential Smoothing with Additive Seasonality & Additive Trend"
   ]
  },
  {
   "cell_type": "code",
   "execution_count": 9,
   "id": "0e623866",
   "metadata": {},
   "outputs": [
    {
     "name": "stderr",
     "output_type": "stream",
     "text": [
      "C:\\Users\\hp\\anaconda3\\lib\\site-packages\\statsmodels\\tsa\\base\\tsa_model.py:471: ValueWarning: No frequency information was provided, so inferred frequency MS will be used.\n",
      "  self._init_dates(dates, freq)\n"
     ]
    },
    {
     "data": {
      "text/plain": [
       "0.0022120551975993294"
      ]
     },
     "execution_count": 9,
     "metadata": {},
     "output_type": "execute_result"
    }
   ],
   "source": [
    "hwe_model_add_add = ExponentialSmoothing(Train[\"quantity\"], seasonal = \"add\", trend = \"add\", seasonal_periods = 12).fit()\n",
    "pred_hwe_add_add = hwe_model_add_add.predict(start = Test.index[0], end = Test.index[-1])\n",
    "MAPE(pred_hwe_add_add, Test.quantity) "
   ]
  },
  {
   "cell_type": "markdown",
   "id": "f5a93593",
   "metadata": {},
   "source": [
    "## 5. Holts Winter Exponential Smoothing with Multiplicative Seasonality & Additive Trend"
   ]
  },
  {
   "cell_type": "code",
   "execution_count": 10,
   "id": "347a3985",
   "metadata": {},
   "outputs": [
    {
     "name": "stderr",
     "output_type": "stream",
     "text": [
      "C:\\Users\\hp\\anaconda3\\lib\\site-packages\\statsmodels\\tsa\\base\\tsa_model.py:471: ValueWarning: No frequency information was provided, so inferred frequency MS will be used.\n",
      "  self._init_dates(dates, freq)\n"
     ]
    },
    {
     "data": {
      "text/plain": [
       "0.5768730780730268"
      ]
     },
     "execution_count": 10,
     "metadata": {},
     "output_type": "execute_result"
    }
   ],
   "source": [
    "hwe_model_mul_add = ExponentialSmoothing(Train[\"quantity\"], seasonal = \"mul\", trend = \"add\", seasonal_periods = 12).fit()\n",
    "pred_hwe_mul_add = hwe_model_mul_add.predict(start = Test.index[0], end = Test.index[-1])\n",
    "MAPE(pred_hwe_mul_add, Test.quantity) "
   ]
  },
  {
   "cell_type": "markdown",
   "id": "17f72832",
   "metadata": {},
   "source": [
    "# Forecasting"
   ]
  },
  {
   "cell_type": "markdown",
   "id": "b60d9f2d",
   "metadata": {},
   "source": [
    "## 1. Getting Data For Forecasting"
   ]
  },
  {
   "cell_type": "code",
   "execution_count": 11,
   "id": "42569fc8",
   "metadata": {},
   "outputs": [],
   "source": [
    "forecast_data_path = \"C:/Users/hp/Downloads/1111/Allot/plastic/plastic_data_to_forecast.csv\""
   ]
  },
  {
   "cell_type": "code",
   "execution_count": 12,
   "id": "5c2a20b9",
   "metadata": {},
   "outputs": [
    {
     "data": {
      "text/html": [
       "<div>\n",
       "<style scoped>\n",
       "    .dataframe tbody tr th:only-of-type {\n",
       "        vertical-align: middle;\n",
       "    }\n",
       "\n",
       "    .dataframe tbody tr th {\n",
       "        vertical-align: top;\n",
       "    }\n",
       "\n",
       "    .dataframe thead th {\n",
       "        text-align: right;\n",
       "    }\n",
       "</style>\n",
       "<table border=\"1\" class=\"dataframe\">\n",
       "  <thead>\n",
       "    <tr style=\"text-align: right;\">\n",
       "      <th></th>\n",
       "    </tr>\n",
       "    <tr>\n",
       "      <th>date</th>\n",
       "    </tr>\n",
       "  </thead>\n",
       "  <tbody>\n",
       "    <tr>\n",
       "      <th>2022-12-01</th>\n",
       "    </tr>\n",
       "    <tr>\n",
       "      <th>2023-01-01</th>\n",
       "    </tr>\n",
       "    <tr>\n",
       "      <th>2023-02-01</th>\n",
       "    </tr>\n",
       "    <tr>\n",
       "      <th>2023-03-01</th>\n",
       "    </tr>\n",
       "    <tr>\n",
       "      <th>2023-04-01</th>\n",
       "    </tr>\n",
       "    <tr>\n",
       "      <th>2023-05-01</th>\n",
       "    </tr>\n",
       "    <tr>\n",
       "      <th>2023-06-01</th>\n",
       "    </tr>\n",
       "    <tr>\n",
       "      <th>2023-07-01</th>\n",
       "    </tr>\n",
       "    <tr>\n",
       "      <th>2023-08-01</th>\n",
       "    </tr>\n",
       "    <tr>\n",
       "      <th>2023-09-01</th>\n",
       "    </tr>\n",
       "    <tr>\n",
       "      <th>2023-10-01</th>\n",
       "    </tr>\n",
       "    <tr>\n",
       "      <th>2023-11-01</th>\n",
       "    </tr>\n",
       "  </tbody>\n",
       "</table>\n",
       "</div>"
      ],
      "text/plain": [
       "Empty DataFrame\n",
       "Columns: []\n",
       "Index: [2022-12-01 00:00:00, 2023-01-01 00:00:00, 2023-02-01 00:00:00, 2023-03-01 00:00:00, 2023-04-01 00:00:00, 2023-05-01 00:00:00, 2023-06-01 00:00:00, 2023-07-01 00:00:00, 2023-08-01 00:00:00, 2023-09-01 00:00:00, 2023-10-01 00:00:00, 2023-11-01 00:00:00]"
      ]
     },
     "execution_count": 12,
     "metadata": {},
     "output_type": "execute_result"
    }
   ],
   "source": [
    "df2 = pd.read_csv(forecast_data_path, parse_dates=['date'])\n",
    "df2 = df2.set_index('date')\n",
    "df2"
   ]
  },
  {
   "cell_type": "markdown",
   "id": "10b7c983",
   "metadata": {},
   "source": [
    "## 3. Best Model"
   ]
  },
  {
   "cell_type": "code",
   "execution_count": 13,
   "id": "9f8ad279",
   "metadata": {},
   "outputs": [
    {
     "name": "stderr",
     "output_type": "stream",
     "text": [
      "C:\\Users\\hp\\anaconda3\\lib\\site-packages\\statsmodels\\tsa\\base\\tsa_model.py:471: ValueWarning: No frequency information was provided, so inferred frequency MS will be used.\n",
      "  self._init_dates(dates, freq)\n"
     ]
    }
   ],
   "source": [
    "model_full = ExponentialSmoothing(df[\"quantity\"], seasonal = \"add\", trend = \"add\", seasonal_periods = 12).fit()"
   ]
  },
  {
   "cell_type": "markdown",
   "id": "c8436e9c",
   "metadata": {},
   "source": [
    "## 4. Forecasting"
   ]
  },
  {
   "cell_type": "code",
   "execution_count": 14,
   "id": "1c879a6d",
   "metadata": {},
   "outputs": [
    {
     "data": {
      "text/plain": [
       "2022-12-01    14804.333636\n",
       "2023-01-01    16727.333372\n",
       "2023-02-01    15915.333476\n",
       "2023-03-01    16552.333150\n",
       "2023-04-01    15415.333641\n",
       "2023-05-01    15869.666736\n",
       "2023-06-01    15669.000067\n",
       "2023-07-01    16243.333375\n",
       "2023-08-01    16238.666744\n",
       "2023-09-01    15861.333356\n",
       "2023-10-01    16505.333618\n",
       "2023-11-01    17557.666557\n",
       "Freq: MS, dtype: float64"
      ]
     },
     "execution_count": 14,
     "metadata": {},
     "output_type": "execute_result"
    }
   ],
   "source": [
    "pred_new = pd.Series(model_full.predict(start = df2.index[0], end = df2.index[-1]))\n",
    "pred_new"
   ]
  },
  {
   "cell_type": "code",
   "execution_count": 15,
   "id": "e1ee9157",
   "metadata": {},
   "outputs": [
    {
     "data": {
      "text/html": [
       "<div>\n",
       "<style scoped>\n",
       "    .dataframe tbody tr th:only-of-type {\n",
       "        vertical-align: middle;\n",
       "    }\n",
       "\n",
       "    .dataframe tbody tr th {\n",
       "        vertical-align: top;\n",
       "    }\n",
       "\n",
       "    .dataframe thead th {\n",
       "        text-align: right;\n",
       "    }\n",
       "</style>\n",
       "<table border=\"1\" class=\"dataframe\">\n",
       "  <thead>\n",
       "    <tr style=\"text-align: right;\">\n",
       "      <th></th>\n",
       "      <th>forecasted_quantity</th>\n",
       "    </tr>\n",
       "    <tr>\n",
       "      <th>date</th>\n",
       "      <th></th>\n",
       "    </tr>\n",
       "  </thead>\n",
       "  <tbody>\n",
       "    <tr>\n",
       "      <th>2022-12-01</th>\n",
       "      <td>14804.333636</td>\n",
       "    </tr>\n",
       "    <tr>\n",
       "      <th>2023-01-01</th>\n",
       "      <td>16727.333372</td>\n",
       "    </tr>\n",
       "    <tr>\n",
       "      <th>2023-02-01</th>\n",
       "      <td>15915.333476</td>\n",
       "    </tr>\n",
       "    <tr>\n",
       "      <th>2023-03-01</th>\n",
       "      <td>16552.333150</td>\n",
       "    </tr>\n",
       "    <tr>\n",
       "      <th>2023-04-01</th>\n",
       "      <td>15415.333641</td>\n",
       "    </tr>\n",
       "    <tr>\n",
       "      <th>2023-05-01</th>\n",
       "      <td>15869.666736</td>\n",
       "    </tr>\n",
       "    <tr>\n",
       "      <th>2023-06-01</th>\n",
       "      <td>15669.000067</td>\n",
       "    </tr>\n",
       "    <tr>\n",
       "      <th>2023-07-01</th>\n",
       "      <td>16243.333375</td>\n",
       "    </tr>\n",
       "    <tr>\n",
       "      <th>2023-08-01</th>\n",
       "      <td>16238.666744</td>\n",
       "    </tr>\n",
       "    <tr>\n",
       "      <th>2023-09-01</th>\n",
       "      <td>15861.333356</td>\n",
       "    </tr>\n",
       "    <tr>\n",
       "      <th>2023-10-01</th>\n",
       "      <td>16505.333618</td>\n",
       "    </tr>\n",
       "    <tr>\n",
       "      <th>2023-11-01</th>\n",
       "      <td>17557.666557</td>\n",
       "    </tr>\n",
       "  </tbody>\n",
       "</table>\n",
       "</div>"
      ],
      "text/plain": [
       "            forecasted_quantity\n",
       "date                           \n",
       "2022-12-01         14804.333636\n",
       "2023-01-01         16727.333372\n",
       "2023-02-01         15915.333476\n",
       "2023-03-01         16552.333150\n",
       "2023-04-01         15415.333641\n",
       "2023-05-01         15869.666736\n",
       "2023-06-01         15669.000067\n",
       "2023-07-01         16243.333375\n",
       "2023-08-01         16238.666744\n",
       "2023-09-01         15861.333356\n",
       "2023-10-01         16505.333618\n",
       "2023-11-01         17557.666557"
      ]
     },
     "execution_count": 15,
     "metadata": {},
     "output_type": "execute_result"
    }
   ],
   "source": [
    "df2[\"forecasted_quantity\"] = pd.Series(pred_new)\n",
    "df2"
   ]
  },
  {
   "cell_type": "markdown",
   "id": "65dd7261",
   "metadata": {},
   "source": [
    "## 5. Finding Residuals"
   ]
  },
  {
   "cell_type": "code",
   "execution_count": 16,
   "id": "ab48ccf5",
   "metadata": {},
   "outputs": [
    {
     "data": {
      "text/plain": [
       "date\n",
       "2019-12-01    0.166453\n",
       "2020-01-01    0.166717\n",
       "2020-02-01    0.166613\n",
       "2020-03-01    0.166939\n",
       "2020-04-01    0.166449\n",
       "2020-05-01   -0.166647\n",
       "2020-06-01   -0.499978\n",
       "2020-07-01    0.166714\n",
       "2020-08-01   -0.166655\n",
       "2020-09-01    0.166733\n",
       "2020-10-01    0.166471\n",
       "2020-11-01   -0.166468\n",
       "2020-12-01   -0.000244\n",
       "2021-01-01    0.000020\n",
       "2021-02-01   -0.000083\n",
       "2021-03-01    0.000242\n",
       "2021-04-01   -0.000248\n",
       "2021-05-01   -0.333344\n",
       "2021-06-01    0.333325\n",
       "2021-07-01    0.000018\n",
       "2021-08-01   -0.333351\n",
       "2021-09-01    0.000037\n",
       "2021-10-01   -0.000225\n",
       "2021-11-01   -0.333165\n",
       "2021-12-01   -0.166940\n",
       "2022-01-01   -0.166676\n",
       "2022-02-01   -0.166779\n",
       "2022-03-01   -0.166454\n",
       "2022-04-01   -0.166944\n",
       "2022-05-01    0.499960\n",
       "2022-06-01    0.166629\n",
       "2022-07-01   -0.166679\n",
       "2022-08-01    0.499952\n",
       "2022-09-01   -0.166660\n",
       "2022-10-01   -0.166921\n",
       "2022-11-01    0.500139\n",
       "dtype: float64"
      ]
     },
     "execution_count": 16,
     "metadata": {},
     "output_type": "execute_result"
    }
   ],
   "source": [
    "full_res = df.quantity - model_full.predict(start = df.index[0], end = df.index[-1])\n",
    "full_res"
   ]
  },
  {
   "cell_type": "markdown",
   "id": "ce3f3c8c",
   "metadata": {},
   "source": [
    "## 6. ACF Plot on Residuals"
   ]
  },
  {
   "cell_type": "code",
   "execution_count": 17,
   "id": "58c404b3",
   "metadata": {},
   "outputs": [
    {
     "data": {
      "image/png": "[encoded data removed]",
      "text/plain": [
       "<Figure size 640x480 with 1 Axes>"
      ]
     },
     "metadata": {},
     "output_type": "display_data"
    }
   ],
   "source": [
    "import statsmodels.graphics.tsaplots as tsa_plots\n",
    "tsa_plots.plot_acf(full_res, lags = 12);"
   ]
  },
  {
   "cell_type": "markdown",
   "id": "4bc64d18",
   "metadata": {},
   "source": [
    "## 7. PACF Plot on Residuals"
   ]
  },
  {
   "cell_type": "code",
   "execution_count": 18,
   "id": "69dcdeec",
   "metadata": {},
   "outputs": [
    {
     "name": "stderr",
     "output_type": "stream",
     "text": [
      "C:\\Users\\hp\\anaconda3\\lib\\site-packages\\statsmodels\\graphics\\tsaplots.py:348: FutureWarning: The default method 'yw' can produce PACF values outside of the [-1,1] interval. After 0.13, the default will change tounadjusted Yule-Walker ('ywm'). You can use this method now by setting method='ywm'.\n",
      "  warnings.warn(\n"
     ]
    },
    {
     "data": {
      "image/png": "[encoded data removed]",
      "text/plain": [
       "<Figure size 640x480 with 1 Axes>"
      ]
     },
     "metadata": {},
     "output_type": "display_data"
    }
   ],
   "source": [
    "tsa_plots.plot_pacf(full_res, lags=12);"
   ]
  },
  {
   "cell_type": "markdown",
   "id": "692ae2a8",
   "metadata": {},
   "source": [
    "## 8. Autoregression Model"
   ]
  },
  {
   "cell_type": "code",
   "execution_count": 19,
   "id": "e6ef1bcb",
   "metadata": {},
   "outputs": [
    {
     "name": "stderr",
     "output_type": "stream",
     "text": [
      "C:\\Users\\hp\\anaconda3\\lib\\site-packages\\statsmodels\\tsa\\base\\tsa_model.py:471: ValueWarning: No frequency information was provided, so inferred frequency MS will be used.\n",
      "  self._init_dates(dates, freq)\n"
     ]
    }
   ],
   "source": [
    "from statsmodels.tsa.ar_model import AutoReg\n",
    "model_ar = AutoReg(full_res, lags=[3])\n",
    "# model_ar = AutoReg(Train_res, lags=5)\n",
    "model_fit = model_ar.fit()"
   ]
  },
  {
   "cell_type": "code",
   "execution_count": 20,
   "id": "2c858d71",
   "metadata": {},
   "outputs": [
    {
     "name": "stdout",
     "output_type": "stream",
     "text": [
      "Coefficients: const   -0.013018\n",
      "y.L3     0.424990\n",
      "dtype: float64\n"
     ]
    },
    {
     "name": "stderr",
     "output_type": "stream",
     "text": [
      "C:\\Users\\hp\\anaconda3\\lib\\site-packages\\statsmodels\\tsa\\deterministic.py:302: UserWarning: Only PeriodIndexes, DatetimeIndexes with a frequency set, RangesIndexes, and Index with a unit increment support extending. The index is set will contain the position relative to the data length.\n",
      "  fcast_index = self._extend_index(index, steps, forecast_index)\n"
     ]
    },
    {
     "data": {
      "text/plain": [
       "0    -0.083847\n",
       "1    -0.083958\n",
       "2     0.199536\n",
       "3    -0.048652\n",
       "4    -0.048700\n",
       "5     0.071783\n",
       "6    -0.033695\n",
       "7    -0.033715\n",
       "8     0.017489\n",
       "9    -0.027338\n",
       "10   -0.027347\n",
       "11   -0.005586\n",
       "dtype: float64"
      ]
     },
     "execution_count": 20,
     "metadata": {},
     "output_type": "execute_result"
    }
   ],
   "source": [
    "print('Coefficients: %s' % model_fit.params)\n",
    "pred_res = model_fit.predict(start=len(full_res), end=len(full_res)+len(df2)-1, dynamic=False)\n",
    "pred_res.reset_index(drop=True, inplace=True)\n",
    "pred_res"
   ]
  },
  {
   "cell_type": "code",
   "execution_count": 21,
   "id": "02230c9a",
   "metadata": {},
   "outputs": [
    {
     "data": {
      "text/html": [
       "<div>\n",
       "<style scoped>\n",
       "    .dataframe tbody tr th:only-of-type {\n",
       "        vertical-align: middle;\n",
       "    }\n",
       "\n",
       "    .dataframe tbody tr th {\n",
       "        vertical-align: top;\n",
       "    }\n",
       "\n",
       "    .dataframe thead th {\n",
       "        text-align: right;\n",
       "    }\n",
       "</style>\n",
       "<table border=\"1\" class=\"dataframe\">\n",
       "  <thead>\n",
       "    <tr style=\"text-align: right;\">\n",
       "      <th></th>\n",
       "      <th>forecasted_quantity</th>\n",
       "      <th>Residuals</th>\n",
       "    </tr>\n",
       "    <tr>\n",
       "      <th>date</th>\n",
       "      <th></th>\n",
       "      <th></th>\n",
       "    </tr>\n",
       "  </thead>\n",
       "  <tbody>\n",
       "    <tr>\n",
       "      <th>2022-12-01</th>\n",
       "      <td>14804.333636</td>\n",
       "      <td>-0.083847</td>\n",
       "    </tr>\n",
       "    <tr>\n",
       "      <th>2023-01-01</th>\n",
       "      <td>16727.333372</td>\n",
       "      <td>-0.083958</td>\n",
       "    </tr>\n",
       "    <tr>\n",
       "      <th>2023-02-01</th>\n",
       "      <td>15915.333476</td>\n",
       "      <td>0.199536</td>\n",
       "    </tr>\n",
       "    <tr>\n",
       "      <th>2023-03-01</th>\n",
       "      <td>16552.333150</td>\n",
       "      <td>-0.048652</td>\n",
       "    </tr>\n",
       "    <tr>\n",
       "      <th>2023-04-01</th>\n",
       "      <td>15415.333641</td>\n",
       "      <td>-0.048700</td>\n",
       "    </tr>\n",
       "    <tr>\n",
       "      <th>2023-05-01</th>\n",
       "      <td>15869.666736</td>\n",
       "      <td>0.071783</td>\n",
       "    </tr>\n",
       "    <tr>\n",
       "      <th>2023-06-01</th>\n",
       "      <td>15669.000067</td>\n",
       "      <td>-0.033695</td>\n",
       "    </tr>\n",
       "    <tr>\n",
       "      <th>2023-07-01</th>\n",
       "      <td>16243.333375</td>\n",
       "      <td>-0.033715</td>\n",
       "    </tr>\n",
       "    <tr>\n",
       "      <th>2023-08-01</th>\n",
       "      <td>16238.666744</td>\n",
       "      <td>0.017489</td>\n",
       "    </tr>\n",
       "    <tr>\n",
       "      <th>2023-09-01</th>\n",
       "      <td>15861.333356</td>\n",
       "      <td>-0.027338</td>\n",
       "    </tr>\n",
       "    <tr>\n",
       "      <th>2023-10-01</th>\n",
       "      <td>16505.333618</td>\n",
       "      <td>-0.027347</td>\n",
       "    </tr>\n",
       "    <tr>\n",
       "      <th>2023-11-01</th>\n",
       "      <td>17557.666557</td>\n",
       "      <td>-0.005586</td>\n",
       "    </tr>\n",
       "  </tbody>\n",
       "</table>\n",
       "</div>"
      ],
      "text/plain": [
       "            forecasted_quantity  Residuals\n",
       "date                                      \n",
       "2022-12-01         14804.333636  -0.083847\n",
       "2023-01-01         16727.333372  -0.083958\n",
       "2023-02-01         15915.333476   0.199536\n",
       "2023-03-01         16552.333150  -0.048652\n",
       "2023-04-01         15415.333641  -0.048700\n",
       "2023-05-01         15869.666736   0.071783\n",
       "2023-06-01         15669.000067  -0.033695\n",
       "2023-07-01         16243.333375  -0.033715\n",
       "2023-08-01         16238.666744   0.017489\n",
       "2023-09-01         15861.333356  -0.027338\n",
       "2023-10-01         16505.333618  -0.027347\n",
       "2023-11-01         17557.666557  -0.005586"
      ]
     },
     "execution_count": 21,
     "metadata": {},
     "output_type": "execute_result"
    }
   ],
   "source": [
    "df3 = pd.concat([df2.reset_index(), pred_res], axis=1)\n",
    "df3 = df3.set_index('date')\n",
    "df3 = df3.rename(columns = {0:'Residuals'})\n",
    "df3"
   ]
  },
  {
   "cell_type": "code",
   "execution_count": 22,
   "id": "0dd0c95d",
   "metadata": {},
   "outputs": [
    {
     "data": {
      "text/html": [
       "<div>\n",
       "<style scoped>\n",
       "    .dataframe tbody tr th:only-of-type {\n",
       "        vertical-align: middle;\n",
       "    }\n",
       "\n",
       "    .dataframe tbody tr th {\n",
       "        vertical-align: top;\n",
       "    }\n",
       "\n",
       "    .dataframe thead th {\n",
       "        text-align: right;\n",
       "    }\n",
       "</style>\n",
       "<table border=\"1\" class=\"dataframe\">\n",
       "  <thead>\n",
       "    <tr style=\"text-align: right;\">\n",
       "      <th></th>\n",
       "      <th>forecasted_quantity</th>\n",
       "      <th>Residuals</th>\n",
       "      <th>final_forecast</th>\n",
       "    </tr>\n",
       "    <tr>\n",
       "      <th>date</th>\n",
       "      <th></th>\n",
       "      <th></th>\n",
       "      <th></th>\n",
       "    </tr>\n",
       "  </thead>\n",
       "  <tbody>\n",
       "    <tr>\n",
       "      <th>2022-12-01</th>\n",
       "      <td>14804.333636</td>\n",
       "      <td>-0.083847</td>\n",
       "      <td>14804.249790</td>\n",
       "    </tr>\n",
       "    <tr>\n",
       "      <th>2023-01-01</th>\n",
       "      <td>16727.333372</td>\n",
       "      <td>-0.083958</td>\n",
       "      <td>16727.249414</td>\n",
       "    </tr>\n",
       "    <tr>\n",
       "      <th>2023-02-01</th>\n",
       "      <td>15915.333476</td>\n",
       "      <td>0.199536</td>\n",
       "      <td>15915.533012</td>\n",
       "    </tr>\n",
       "    <tr>\n",
       "      <th>2023-03-01</th>\n",
       "      <td>16552.333150</td>\n",
       "      <td>-0.048652</td>\n",
       "      <td>16552.284498</td>\n",
       "    </tr>\n",
       "    <tr>\n",
       "      <th>2023-04-01</th>\n",
       "      <td>15415.333641</td>\n",
       "      <td>-0.048700</td>\n",
       "      <td>15415.284941</td>\n",
       "    </tr>\n",
       "    <tr>\n",
       "      <th>2023-05-01</th>\n",
       "      <td>15869.666736</td>\n",
       "      <td>0.071783</td>\n",
       "      <td>15869.738519</td>\n",
       "    </tr>\n",
       "    <tr>\n",
       "      <th>2023-06-01</th>\n",
       "      <td>15669.000067</td>\n",
       "      <td>-0.033695</td>\n",
       "      <td>15668.966373</td>\n",
       "    </tr>\n",
       "    <tr>\n",
       "      <th>2023-07-01</th>\n",
       "      <td>16243.333375</td>\n",
       "      <td>-0.033715</td>\n",
       "      <td>16243.299660</td>\n",
       "    </tr>\n",
       "    <tr>\n",
       "      <th>2023-08-01</th>\n",
       "      <td>16238.666744</td>\n",
       "      <td>0.017489</td>\n",
       "      <td>16238.684233</td>\n",
       "    </tr>\n",
       "    <tr>\n",
       "      <th>2023-09-01</th>\n",
       "      <td>15861.333356</td>\n",
       "      <td>-0.027338</td>\n",
       "      <td>15861.306018</td>\n",
       "    </tr>\n",
       "    <tr>\n",
       "      <th>2023-10-01</th>\n",
       "      <td>16505.333618</td>\n",
       "      <td>-0.027347</td>\n",
       "      <td>16505.306271</td>\n",
       "    </tr>\n",
       "    <tr>\n",
       "      <th>2023-11-01</th>\n",
       "      <td>17557.666557</td>\n",
       "      <td>-0.005586</td>\n",
       "      <td>17557.660972</td>\n",
       "    </tr>\n",
       "  </tbody>\n",
       "</table>\n",
       "</div>"
      ],
      "text/plain": [
       "            forecasted_quantity  Residuals  final_forecast\n",
       "date                                                      \n",
       "2022-12-01         14804.333636  -0.083847    14804.249790\n",
       "2023-01-01         16727.333372  -0.083958    16727.249414\n",
       "2023-02-01         15915.333476   0.199536    15915.533012\n",
       "2023-03-01         16552.333150  -0.048652    16552.284498\n",
       "2023-04-01         15415.333641  -0.048700    15415.284941\n",
       "2023-05-01         15869.666736   0.071783    15869.738519\n",
       "2023-06-01         15669.000067  -0.033695    15668.966373\n",
       "2023-07-01         16243.333375  -0.033715    16243.299660\n",
       "2023-08-01         16238.666744   0.017489    16238.684233\n",
       "2023-09-01         15861.333356  -0.027338    15861.306018\n",
       "2023-10-01         16505.333618  -0.027347    16505.306271\n",
       "2023-11-01         17557.666557  -0.005586    17557.660972"
      ]
     },
     "execution_count": 22,
     "metadata": {},
     "output_type": "execute_result"
    }
   ],
   "source": [
    "df3['final_forecast'] = df3['Residuals'] + df3['forecasted_quantity']\n",
    "df3"
   ]
  },
  {
   "cell_type": "markdown",
   "id": "a6640608",
   "metadata": {},
   "source": [
    "# Forecasting Result"
   ]
  },
  {
   "cell_type": "code",
   "execution_count": 23,
   "id": "2a08309d",
   "metadata": {},
   "outputs": [
    {
     "data": {
      "text/plain": [
       "<AxesSubplot:xlabel='date'>"
      ]
     },
     "execution_count": 23,
     "metadata": {},
     "output_type": "execute_result"
    },
    {
     "data": {
      "image/png": "[encoded data removed]",
      "text/plain": [
       "<Figure size 640x480 with 1 Axes>"
      ]
     },
     "metadata": {},
     "output_type": "display_data"
    }
   ],
   "source": [
    "df.quantity.plot()\n",
    "df3.final_forecast.plot()"
   ]
  },
  {
   "cell_type": "markdown",
   "id": "762033a4",
   "metadata": {},
   "source": [
    "# Saving Forecasted Data"
   ]
  },
  {
   "cell_type": "code",
   "execution_count": 24,
   "id": "f64300d0",
   "metadata": {},
   "outputs": [
    {
     "data": {
      "text/plain": [
       "'C:\\\\Users\\\\hp\\\\Downloads\\\\1111\\\\Allot\\\\plastic'"
      ]
     },
     "execution_count": 24,
     "metadata": {},
     "output_type": "execute_result"
    }
   ],
   "source": [
    "df3.to_csv('data_driven_Forecasted_Data.csv',encoding='utf-8')\n",
    "import os\n",
    "os.getcwd()"
   ]
  },
  {
   "cell_type": "code",
   "execution_count": null,
   "id": "3878efd8",
   "metadata": {},
   "outputs": [],
   "source": []
  }
 ],
 "metadata": {
  "kernelspec": {
   "display_name": "Python 3 (ipykernel)",
   "language": "python",
   "name": "python3"
  },
  "language_info": {
   "codemirror_mode": {
    "name": "ipython",
    "version": 3
   },
   "file_extension": ".py",
   "mimetype": "text/x-python",
   "name": "python",
   "nbconvert_exporter": "python",
   "pygments_lexer": "ipython3",
   "version": "3.9.12"
  }
 },
 "nbformat": 4,
 "nbformat_minor": 5
}
