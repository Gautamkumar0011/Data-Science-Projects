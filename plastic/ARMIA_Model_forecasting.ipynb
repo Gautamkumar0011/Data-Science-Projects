{
 "cells": [
  {
   "cell_type": "markdown",
   "id": "24d14631",
   "metadata": {},
   "source": [
    "# Initial Steps"
   ]
  },
  {
   "cell_type": "code",
   "execution_count": 4,
   "id": "d79ee397",
   "metadata": {},
   "outputs": [],
   "source": [
    "import pandas as pd\n",
    "import statsmodels.graphics.tsaplots as tsa_plots\n",
    "from statsmodels.tsa.arima.model import ARIMA\n",
    "from sklearn.metrics import mean_squared_error\n",
    "from math import sqrt\n",
    "from matplotlib import pyplot"
   ]
  },
  {
   "cell_type": "markdown",
   "id": "38c94732",
   "metadata": {},
   "source": [
    "Loading Data"
   ]
  },
  {
   "cell_type": "code",
   "execution_count": 5,
   "id": "c24289ef",
   "metadata": {},
   "outputs": [
    {
     "data": {
      "text/html": [
       "<div>\n",
       "<style scoped>\n",
       "    .dataframe tbody tr th:only-of-type {\n",
       "        vertical-align: middle;\n",
       "    }\n",
       "\n",
       "    .dataframe tbody tr th {\n",
       "        vertical-align: top;\n",
       "    }\n",
       "\n",
       "    .dataframe thead th {\n",
       "        text-align: right;\n",
       "    }\n",
       "</style>\n",
       "<table border=\"1\" class=\"dataframe\">\n",
       "  <thead>\n",
       "    <tr style=\"text-align: right;\">\n",
       "      <th></th>\n",
       "      <th>quantity</th>\n",
       "    </tr>\n",
       "    <tr>\n",
       "      <th>date</th>\n",
       "      <th></th>\n",
       "    </tr>\n",
       "  </thead>\n",
       "  <tbody>\n",
       "    <tr>\n",
       "      <th>2019-12-01</th>\n",
       "      <td>11120</td>\n",
       "    </tr>\n",
       "    <tr>\n",
       "      <th>2020-01-01</th>\n",
       "      <td>13043</td>\n",
       "    </tr>\n",
       "    <tr>\n",
       "      <th>2020-02-01</th>\n",
       "      <td>12231</td>\n",
       "    </tr>\n",
       "    <tr>\n",
       "      <th>2020-03-01</th>\n",
       "      <td>12868</td>\n",
       "    </tr>\n",
       "    <tr>\n",
       "      <th>2020-04-01</th>\n",
       "      <td>11731</td>\n",
       "    </tr>\n",
       "    <tr>\n",
       "      <th>2020-05-01</th>\n",
       "      <td>12185</td>\n",
       "    </tr>\n",
       "    <tr>\n",
       "      <th>2020-06-01</th>\n",
       "      <td>11984</td>\n",
       "    </tr>\n",
       "    <tr>\n",
       "      <th>2020-07-01</th>\n",
       "      <td>12559</td>\n",
       "    </tr>\n",
       "    <tr>\n",
       "      <th>2020-08-01</th>\n",
       "      <td>12554</td>\n",
       "    </tr>\n",
       "    <tr>\n",
       "      <th>2020-09-01</th>\n",
       "      <td>12177</td>\n",
       "    </tr>\n",
       "    <tr>\n",
       "      <th>2020-10-01</th>\n",
       "      <td>12821</td>\n",
       "    </tr>\n",
       "    <tr>\n",
       "      <th>2020-11-01</th>\n",
       "      <td>13873</td>\n",
       "    </tr>\n",
       "    <tr>\n",
       "      <th>2020-12-01</th>\n",
       "      <td>12348</td>\n",
       "    </tr>\n",
       "    <tr>\n",
       "      <th>2021-01-01</th>\n",
       "      <td>14271</td>\n",
       "    </tr>\n",
       "    <tr>\n",
       "      <th>2021-02-01</th>\n",
       "      <td>13459</td>\n",
       "    </tr>\n",
       "    <tr>\n",
       "      <th>2021-03-01</th>\n",
       "      <td>14096</td>\n",
       "    </tr>\n",
       "    <tr>\n",
       "      <th>2021-04-01</th>\n",
       "      <td>12959</td>\n",
       "    </tr>\n",
       "    <tr>\n",
       "      <th>2021-05-01</th>\n",
       "      <td>13413</td>\n",
       "    </tr>\n",
       "    <tr>\n",
       "      <th>2021-06-01</th>\n",
       "      <td>13213</td>\n",
       "    </tr>\n",
       "    <tr>\n",
       "      <th>2021-07-01</th>\n",
       "      <td>13787</td>\n",
       "    </tr>\n",
       "    <tr>\n",
       "      <th>2021-08-01</th>\n",
       "      <td>13782</td>\n",
       "    </tr>\n",
       "    <tr>\n",
       "      <th>2021-09-01</th>\n",
       "      <td>13405</td>\n",
       "    </tr>\n",
       "    <tr>\n",
       "      <th>2021-10-01</th>\n",
       "      <td>14049</td>\n",
       "    </tr>\n",
       "    <tr>\n",
       "      <th>2021-11-01</th>\n",
       "      <td>15101</td>\n",
       "    </tr>\n",
       "    <tr>\n",
       "      <th>2021-12-01</th>\n",
       "      <td>13576</td>\n",
       "    </tr>\n",
       "    <tr>\n",
       "      <th>2022-01-01</th>\n",
       "      <td>15499</td>\n",
       "    </tr>\n",
       "    <tr>\n",
       "      <th>2022-02-01</th>\n",
       "      <td>14687</td>\n",
       "    </tr>\n",
       "    <tr>\n",
       "      <th>2022-03-01</th>\n",
       "      <td>15324</td>\n",
       "    </tr>\n",
       "    <tr>\n",
       "      <th>2022-04-01</th>\n",
       "      <td>14187</td>\n",
       "    </tr>\n",
       "    <tr>\n",
       "      <th>2022-05-01</th>\n",
       "      <td>14642</td>\n",
       "    </tr>\n",
       "    <tr>\n",
       "      <th>2022-06-01</th>\n",
       "      <td>14441</td>\n",
       "    </tr>\n",
       "    <tr>\n",
       "      <th>2022-07-01</th>\n",
       "      <td>15015</td>\n",
       "    </tr>\n",
       "    <tr>\n",
       "      <th>2022-08-01</th>\n",
       "      <td>15011</td>\n",
       "    </tr>\n",
       "    <tr>\n",
       "      <th>2022-09-01</th>\n",
       "      <td>14633</td>\n",
       "    </tr>\n",
       "    <tr>\n",
       "      <th>2022-10-01</th>\n",
       "      <td>15277</td>\n",
       "    </tr>\n",
       "    <tr>\n",
       "      <th>2022-11-01</th>\n",
       "      <td>16330</td>\n",
       "    </tr>\n",
       "  </tbody>\n",
       "</table>\n",
       "</div>"
      ],
      "text/plain": [
       "            quantity\n",
       "date                \n",
       "2019-12-01     11120\n",
       "2020-01-01     13043\n",
       "2020-02-01     12231\n",
       "2020-03-01     12868\n",
       "2020-04-01     11731\n",
       "2020-05-01     12185\n",
       "2020-06-01     11984\n",
       "2020-07-01     12559\n",
       "2020-08-01     12554\n",
       "2020-09-01     12177\n",
       "2020-10-01     12821\n",
       "2020-11-01     13873\n",
       "2020-12-01     12348\n",
       "2021-01-01     14271\n",
       "2021-02-01     13459\n",
       "2021-03-01     14096\n",
       "2021-04-01     12959\n",
       "2021-05-01     13413\n",
       "2021-06-01     13213\n",
       "2021-07-01     13787\n",
       "2021-08-01     13782\n",
       "2021-09-01     13405\n",
       "2021-10-01     14049\n",
       "2021-11-01     15101\n",
       "2021-12-01     13576\n",
       "2022-01-01     15499\n",
       "2022-02-01     14687\n",
       "2022-03-01     15324\n",
       "2022-04-01     14187\n",
       "2022-05-01     14642\n",
       "2022-06-01     14441\n",
       "2022-07-01     15015\n",
       "2022-08-01     15011\n",
       "2022-09-01     14633\n",
       "2022-10-01     15277\n",
       "2022-11-01     16330"
      ]
     },
     "execution_count": 5,
     "metadata": {},
     "output_type": "execute_result"
    }
   ],
   "source": [
    "df = pd.read_csv(r\"C:\\Users\\hp\\Downloads\\1111\\Allot\\plastic\\cleaned_monthly_Plastic_data.csv\", parse_dates=['date'])\n",
    "df = df.set_index('date')\n",
    "df"
   ]
  },
  {
   "cell_type": "markdown",
   "id": "f5788b1e",
   "metadata": {},
   "source": [
    "# Preparing Data For Data Driven Forecasting"
   ]
  },
  {
   "cell_type": "markdown",
   "id": "2724b364",
   "metadata": {},
   "source": [
    "## Importing Required Libraries"
   ]
  },
  {
   "cell_type": "code",
   "execution_count": 6,
   "id": "8bb5d609",
   "metadata": {},
   "outputs": [],
   "source": [
    "from statsmodels.tsa.stattools import adfuller\n",
    "def ad_test (dataset):\n",
    "    dftest = adfuller (dataset, autolag = 'AIC')\n",
    "    print(\"1. ADF : \",dftest[0])\n",
    "    print(\"2. P-Value: \", dftest [1])\n",
    "    print(\"3. Num Of Lags : \", dftest [2])\n",
    "    print(\"4. Num Of Observations Used For ADF Regression and Critical Values Calculation :\", dftest [3])\n",
    "    print(\"5. Critical Values :\")\n",
    "    for key, val in dftest [4].items():\n",
    "        print(\"\\t\",key, \": \", val)"
   ]
  },
  {
   "cell_type": "code",
   "execution_count": 7,
   "id": "bb345801",
   "metadata": {},
   "outputs": [
    {
     "name": "stdout",
     "output_type": "stream",
     "text": [
      "1. ADF :  -0.2680053318620972\n",
      "2. P-Value:  0.9299150887423024\n",
      "3. Num Of Lags :  9\n",
      "4. Num Of Observations Used For ADF Regression and Critical Values Calculation : 26\n",
      "5. Critical Values :\n",
      "\t 1% :  -3.7112123008648155\n",
      "\t 5% :  -2.981246804733728\n",
      "\t 10% :  -2.6300945562130176\n"
     ]
    }
   ],
   "source": [
    "ad_test(df['quantity'])"
   ]
  },
  {
   "cell_type": "code",
   "execution_count": 8,
   "id": "d60ec7d8",
   "metadata": {},
   "outputs": [],
   "source": [
    "def adf_test (ds):\n",
    "    import pandas as pd\n",
    "    import matplotlib.pyplot as plt\n",
    "    %matplotlib inline\n",
    "    ds_split = int(len(ds)/2)\n",
    "    ds1  = ds[0:ds_split]\n",
    "    ds2 = ds[ds_split:]\n",
    "    print('Mean 1 - ',ds1.mean())\n",
    "    print('Mean 2 - ', ds1.mean())\n",
    "    print('Var 1 - ',ds1.var())\n",
    "    print('Var 2 ',ds2.var())\n",
    "    from statsmodels.tsa.stattools import adfuller\n",
    "    adf_test= adfuller(ds)\n",
    "    print('ADfuller Statistics - ', adf_test[0])\n",
    "    print('P value - ',adf_test [1])"
   ]
  },
  {
   "cell_type": "code",
   "execution_count": 9,
   "id": "7221b564",
   "metadata": {},
   "outputs": [
    {
     "name": "stdout",
     "output_type": "stream",
     "text": [
      "Mean 1 -  12760.666666666666\n",
      "Mean 2 -  12760.666666666666\n",
      "Var 1 -  700612.7058823528\n",
      "Var 2  680987.977124183\n",
      "ADfuller Statistics -  -0.2680053318620972\n",
      "P value -  0.9299150887423024\n"
     ]
    }
   ],
   "source": [
    "adf_test(df['quantity'])"
   ]
  },
  {
   "cell_type": "code",
   "execution_count": 10,
   "id": "0e633c10",
   "metadata": {},
   "outputs": [
    {
     "data": {
      "text/plain": [
       "date\n",
       "2020-01-01    1923.0\n",
       "2020-02-01    -812.0\n",
       "2020-03-01     637.0\n",
       "2020-04-01   -1137.0\n",
       "2020-05-01     454.0\n",
       "2020-06-01    -201.0\n",
       "2020-07-01     575.0\n",
       "2020-08-01      -5.0\n",
       "2020-09-01    -377.0\n",
       "2020-10-01     644.0\n",
       "2020-11-01    1052.0\n",
       "2020-12-01   -1525.0\n",
       "2021-01-01    1923.0\n",
       "2021-02-01    -812.0\n",
       "2021-03-01     637.0\n",
       "2021-04-01   -1137.0\n",
       "2021-05-01     454.0\n",
       "2021-06-01    -200.0\n",
       "2021-07-01     574.0\n",
       "2021-08-01      -5.0\n",
       "2021-09-01    -377.0\n",
       "2021-10-01     644.0\n",
       "2021-11-01    1052.0\n",
       "2021-12-01   -1525.0\n",
       "2022-01-01    1923.0\n",
       "2022-02-01    -812.0\n",
       "2022-03-01     637.0\n",
       "2022-04-01   -1137.0\n",
       "2022-05-01     455.0\n",
       "2022-06-01    -201.0\n",
       "2022-07-01     574.0\n",
       "2022-08-01      -4.0\n",
       "2022-09-01    -378.0\n",
       "2022-10-01     644.0\n",
       "2022-11-01    1053.0\n",
       "Name: quantity, dtype: float64"
      ]
     },
     "execution_count": 10,
     "metadata": {},
     "output_type": "execute_result"
    }
   ],
   "source": [
    "transformed_df = pd.Series(df[\"quantity\"]).diff().dropna()\n",
    "transformed_df"
   ]
  },
  {
   "cell_type": "code",
   "execution_count": 11,
   "id": "8e87ff20",
   "metadata": {},
   "outputs": [
    {
     "data": {
      "image/png": "[encoded data removed]",
      "text/plain": [
       "<Figure size 1400x400 with 1 Axes>"
      ]
     },
     "metadata": {},
     "output_type": "display_data"
    }
   ],
   "source": [
    "transformed_df.plot(figsize=(14, 4));"
   ]
  },
  {
   "cell_type": "code",
   "execution_count": 12,
   "id": "4c07d47c",
   "metadata": {},
   "outputs": [
    {
     "name": "stdout",
     "output_type": "stream",
     "text": [
      "1. ADF :  -5568.469550325137\n",
      "2. P-Value:  0.0\n",
      "3. Num Of Lags :  10\n",
      "4. Num Of Observations Used For ADF Regression and Critical Values Calculation : 24\n",
      "5. Critical Values :\n",
      "\t 1% :  -3.7377092158564813\n",
      "\t 5% :  -2.9922162731481485\n",
      "\t 10% :  -2.635746736111111\n"
     ]
    }
   ],
   "source": [
    "ad_test(transformed_df)"
   ]
  },
  {
   "cell_type": "code",
   "execution_count": 13,
   "id": "172203c6",
   "metadata": {},
   "outputs": [
    {
     "data": {
      "text/html": [
       "<div>\n",
       "<style scoped>\n",
       "    .dataframe tbody tr th:only-of-type {\n",
       "        vertical-align: middle;\n",
       "    }\n",
       "\n",
       "    .dataframe tbody tr th {\n",
       "        vertical-align: top;\n",
       "    }\n",
       "\n",
       "    .dataframe thead th {\n",
       "        text-align: right;\n",
       "    }\n",
       "</style>\n",
       "<table border=\"1\" class=\"dataframe\">\n",
       "  <thead>\n",
       "    <tr style=\"text-align: right;\">\n",
       "      <th></th>\n",
       "      <th>quantity</th>\n",
       "    </tr>\n",
       "    <tr>\n",
       "      <th>date</th>\n",
       "      <th></th>\n",
       "    </tr>\n",
       "  </thead>\n",
       "  <tbody>\n",
       "    <tr>\n",
       "      <th>2020-01-01</th>\n",
       "      <td>1923.0</td>\n",
       "    </tr>\n",
       "    <tr>\n",
       "      <th>2020-02-01</th>\n",
       "      <td>-812.0</td>\n",
       "    </tr>\n",
       "    <tr>\n",
       "      <th>2020-03-01</th>\n",
       "      <td>637.0</td>\n",
       "    </tr>\n",
       "    <tr>\n",
       "      <th>2020-04-01</th>\n",
       "      <td>-1137.0</td>\n",
       "    </tr>\n",
       "    <tr>\n",
       "      <th>2020-05-01</th>\n",
       "      <td>454.0</td>\n",
       "    </tr>\n",
       "    <tr>\n",
       "      <th>2020-06-01</th>\n",
       "      <td>-201.0</td>\n",
       "    </tr>\n",
       "    <tr>\n",
       "      <th>2020-07-01</th>\n",
       "      <td>575.0</td>\n",
       "    </tr>\n",
       "    <tr>\n",
       "      <th>2020-08-01</th>\n",
       "      <td>-5.0</td>\n",
       "    </tr>\n",
       "    <tr>\n",
       "      <th>2020-09-01</th>\n",
       "      <td>-377.0</td>\n",
       "    </tr>\n",
       "    <tr>\n",
       "      <th>2020-10-01</th>\n",
       "      <td>644.0</td>\n",
       "    </tr>\n",
       "    <tr>\n",
       "      <th>2020-11-01</th>\n",
       "      <td>1052.0</td>\n",
       "    </tr>\n",
       "    <tr>\n",
       "      <th>2020-12-01</th>\n",
       "      <td>-1525.0</td>\n",
       "    </tr>\n",
       "    <tr>\n",
       "      <th>2021-01-01</th>\n",
       "      <td>1923.0</td>\n",
       "    </tr>\n",
       "    <tr>\n",
       "      <th>2021-02-01</th>\n",
       "      <td>-812.0</td>\n",
       "    </tr>\n",
       "    <tr>\n",
       "      <th>2021-03-01</th>\n",
       "      <td>637.0</td>\n",
       "    </tr>\n",
       "    <tr>\n",
       "      <th>2021-04-01</th>\n",
       "      <td>-1137.0</td>\n",
       "    </tr>\n",
       "    <tr>\n",
       "      <th>2021-05-01</th>\n",
       "      <td>454.0</td>\n",
       "    </tr>\n",
       "    <tr>\n",
       "      <th>2021-06-01</th>\n",
       "      <td>-200.0</td>\n",
       "    </tr>\n",
       "    <tr>\n",
       "      <th>2021-07-01</th>\n",
       "      <td>574.0</td>\n",
       "    </tr>\n",
       "    <tr>\n",
       "      <th>2021-08-01</th>\n",
       "      <td>-5.0</td>\n",
       "    </tr>\n",
       "    <tr>\n",
       "      <th>2021-09-01</th>\n",
       "      <td>-377.0</td>\n",
       "    </tr>\n",
       "    <tr>\n",
       "      <th>2021-10-01</th>\n",
       "      <td>644.0</td>\n",
       "    </tr>\n",
       "    <tr>\n",
       "      <th>2021-11-01</th>\n",
       "      <td>1052.0</td>\n",
       "    </tr>\n",
       "    <tr>\n",
       "      <th>2021-12-01</th>\n",
       "      <td>-1525.0</td>\n",
       "    </tr>\n",
       "    <tr>\n",
       "      <th>2022-01-01</th>\n",
       "      <td>1923.0</td>\n",
       "    </tr>\n",
       "    <tr>\n",
       "      <th>2022-02-01</th>\n",
       "      <td>-812.0</td>\n",
       "    </tr>\n",
       "    <tr>\n",
       "      <th>2022-03-01</th>\n",
       "      <td>637.0</td>\n",
       "    </tr>\n",
       "    <tr>\n",
       "      <th>2022-04-01</th>\n",
       "      <td>-1137.0</td>\n",
       "    </tr>\n",
       "    <tr>\n",
       "      <th>2022-05-01</th>\n",
       "      <td>455.0</td>\n",
       "    </tr>\n",
       "    <tr>\n",
       "      <th>2022-06-01</th>\n",
       "      <td>-201.0</td>\n",
       "    </tr>\n",
       "    <tr>\n",
       "      <th>2022-07-01</th>\n",
       "      <td>574.0</td>\n",
       "    </tr>\n",
       "    <tr>\n",
       "      <th>2022-08-01</th>\n",
       "      <td>-4.0</td>\n",
       "    </tr>\n",
       "    <tr>\n",
       "      <th>2022-09-01</th>\n",
       "      <td>-378.0</td>\n",
       "    </tr>\n",
       "    <tr>\n",
       "      <th>2022-10-01</th>\n",
       "      <td>644.0</td>\n",
       "    </tr>\n",
       "    <tr>\n",
       "      <th>2022-11-01</th>\n",
       "      <td>1053.0</td>\n",
       "    </tr>\n",
       "  </tbody>\n",
       "</table>\n",
       "</div>"
      ],
      "text/plain": [
       "            quantity\n",
       "date                \n",
       "2020-01-01    1923.0\n",
       "2020-02-01    -812.0\n",
       "2020-03-01     637.0\n",
       "2020-04-01   -1137.0\n",
       "2020-05-01     454.0\n",
       "2020-06-01    -201.0\n",
       "2020-07-01     575.0\n",
       "2020-08-01      -5.0\n",
       "2020-09-01    -377.0\n",
       "2020-10-01     644.0\n",
       "2020-11-01    1052.0\n",
       "2020-12-01   -1525.0\n",
       "2021-01-01    1923.0\n",
       "2021-02-01    -812.0\n",
       "2021-03-01     637.0\n",
       "2021-04-01   -1137.0\n",
       "2021-05-01     454.0\n",
       "2021-06-01    -200.0\n",
       "2021-07-01     574.0\n",
       "2021-08-01      -5.0\n",
       "2021-09-01    -377.0\n",
       "2021-10-01     644.0\n",
       "2021-11-01    1052.0\n",
       "2021-12-01   -1525.0\n",
       "2022-01-01    1923.0\n",
       "2022-02-01    -812.0\n",
       "2022-03-01     637.0\n",
       "2022-04-01   -1137.0\n",
       "2022-05-01     455.0\n",
       "2022-06-01    -201.0\n",
       "2022-07-01     574.0\n",
       "2022-08-01      -4.0\n",
       "2022-09-01    -378.0\n",
       "2022-10-01     644.0\n",
       "2022-11-01    1053.0"
      ]
     },
     "execution_count": 13,
     "metadata": {},
     "output_type": "execute_result"
    }
   ],
   "source": [
    "df1 = pd.DataFrame(transformed_df)\n",
    "df1"
   ]
  },
  {
   "cell_type": "markdown",
   "id": "48c17c97",
   "metadata": {},
   "source": [
    "## Splitting Data"
   ]
  },
  {
   "cell_type": "code",
   "execution_count": 14,
   "id": "c25d7b83",
   "metadata": {},
   "outputs": [
    {
     "data": {
      "text/html": [
       "<div>\n",
       "<style scoped>\n",
       "    .dataframe tbody tr th:only-of-type {\n",
       "        vertical-align: middle;\n",
       "    }\n",
       "\n",
       "    .dataframe tbody tr th {\n",
       "        vertical-align: top;\n",
       "    }\n",
       "\n",
       "    .dataframe thead th {\n",
       "        text-align: right;\n",
       "    }\n",
       "</style>\n",
       "<table border=\"1\" class=\"dataframe\">\n",
       "  <thead>\n",
       "    <tr style=\"text-align: right;\">\n",
       "      <th></th>\n",
       "      <th>quantity</th>\n",
       "    </tr>\n",
       "    <tr>\n",
       "      <th>date</th>\n",
       "      <th></th>\n",
       "    </tr>\n",
       "  </thead>\n",
       "  <tbody>\n",
       "    <tr>\n",
       "      <th>2020-01-01</th>\n",
       "      <td>1923.0</td>\n",
       "    </tr>\n",
       "    <tr>\n",
       "      <th>2020-02-01</th>\n",
       "      <td>-812.0</td>\n",
       "    </tr>\n",
       "    <tr>\n",
       "      <th>2020-03-01</th>\n",
       "      <td>637.0</td>\n",
       "    </tr>\n",
       "    <tr>\n",
       "      <th>2020-04-01</th>\n",
       "      <td>-1137.0</td>\n",
       "    </tr>\n",
       "    <tr>\n",
       "      <th>2020-05-01</th>\n",
       "      <td>454.0</td>\n",
       "    </tr>\n",
       "    <tr>\n",
       "      <th>2020-06-01</th>\n",
       "      <td>-201.0</td>\n",
       "    </tr>\n",
       "    <tr>\n",
       "      <th>2020-07-01</th>\n",
       "      <td>575.0</td>\n",
       "    </tr>\n",
       "    <tr>\n",
       "      <th>2020-08-01</th>\n",
       "      <td>-5.0</td>\n",
       "    </tr>\n",
       "    <tr>\n",
       "      <th>2020-09-01</th>\n",
       "      <td>-377.0</td>\n",
       "    </tr>\n",
       "    <tr>\n",
       "      <th>2020-10-01</th>\n",
       "      <td>644.0</td>\n",
       "    </tr>\n",
       "    <tr>\n",
       "      <th>2020-11-01</th>\n",
       "      <td>1052.0</td>\n",
       "    </tr>\n",
       "    <tr>\n",
       "      <th>2020-12-01</th>\n",
       "      <td>-1525.0</td>\n",
       "    </tr>\n",
       "    <tr>\n",
       "      <th>2021-01-01</th>\n",
       "      <td>1923.0</td>\n",
       "    </tr>\n",
       "    <tr>\n",
       "      <th>2021-02-01</th>\n",
       "      <td>-812.0</td>\n",
       "    </tr>\n",
       "    <tr>\n",
       "      <th>2021-03-01</th>\n",
       "      <td>637.0</td>\n",
       "    </tr>\n",
       "    <tr>\n",
       "      <th>2021-04-01</th>\n",
       "      <td>-1137.0</td>\n",
       "    </tr>\n",
       "    <tr>\n",
       "      <th>2021-05-01</th>\n",
       "      <td>454.0</td>\n",
       "    </tr>\n",
       "    <tr>\n",
       "      <th>2021-06-01</th>\n",
       "      <td>-200.0</td>\n",
       "    </tr>\n",
       "    <tr>\n",
       "      <th>2021-07-01</th>\n",
       "      <td>574.0</td>\n",
       "    </tr>\n",
       "    <tr>\n",
       "      <th>2021-08-01</th>\n",
       "      <td>-5.0</td>\n",
       "    </tr>\n",
       "    <tr>\n",
       "      <th>2021-09-01</th>\n",
       "      <td>-377.0</td>\n",
       "    </tr>\n",
       "    <tr>\n",
       "      <th>2021-10-01</th>\n",
       "      <td>644.0</td>\n",
       "    </tr>\n",
       "    <tr>\n",
       "      <th>2021-11-01</th>\n",
       "      <td>1052.0</td>\n",
       "    </tr>\n",
       "  </tbody>\n",
       "</table>\n",
       "</div>"
      ],
      "text/plain": [
       "            quantity\n",
       "date                \n",
       "2020-01-01    1923.0\n",
       "2020-02-01    -812.0\n",
       "2020-03-01     637.0\n",
       "2020-04-01   -1137.0\n",
       "2020-05-01     454.0\n",
       "2020-06-01    -201.0\n",
       "2020-07-01     575.0\n",
       "2020-08-01      -5.0\n",
       "2020-09-01    -377.0\n",
       "2020-10-01     644.0\n",
       "2020-11-01    1052.0\n",
       "2020-12-01   -1525.0\n",
       "2021-01-01    1923.0\n",
       "2021-02-01    -812.0\n",
       "2021-03-01     637.0\n",
       "2021-04-01   -1137.0\n",
       "2021-05-01     454.0\n",
       "2021-06-01    -200.0\n",
       "2021-07-01     574.0\n",
       "2021-08-01      -5.0\n",
       "2021-09-01    -377.0\n",
       "2021-10-01     644.0\n",
       "2021-11-01    1052.0"
      ]
     },
     "execution_count": 14,
     "metadata": {},
     "output_type": "execute_result"
    }
   ],
   "source": [
    "Train = df1.drop(df.tail(12).index)\n",
    "Train"
   ]
  },
  {
   "cell_type": "code",
   "execution_count": 15,
   "id": "72afe951",
   "metadata": {},
   "outputs": [
    {
     "data": {
      "text/html": [
       "<div>\n",
       "<style scoped>\n",
       "    .dataframe tbody tr th:only-of-type {\n",
       "        vertical-align: middle;\n",
       "    }\n",
       "\n",
       "    .dataframe tbody tr th {\n",
       "        vertical-align: top;\n",
       "    }\n",
       "\n",
       "    .dataframe thead th {\n",
       "        text-align: right;\n",
       "    }\n",
       "</style>\n",
       "<table border=\"1\" class=\"dataframe\">\n",
       "  <thead>\n",
       "    <tr style=\"text-align: right;\">\n",
       "      <th></th>\n",
       "      <th>quantity</th>\n",
       "    </tr>\n",
       "    <tr>\n",
       "      <th>date</th>\n",
       "      <th></th>\n",
       "    </tr>\n",
       "  </thead>\n",
       "  <tbody>\n",
       "    <tr>\n",
       "      <th>2021-12-01</th>\n",
       "      <td>-1525.0</td>\n",
       "    </tr>\n",
       "    <tr>\n",
       "      <th>2022-01-01</th>\n",
       "      <td>1923.0</td>\n",
       "    </tr>\n",
       "    <tr>\n",
       "      <th>2022-02-01</th>\n",
       "      <td>-812.0</td>\n",
       "    </tr>\n",
       "    <tr>\n",
       "      <th>2022-03-01</th>\n",
       "      <td>637.0</td>\n",
       "    </tr>\n",
       "    <tr>\n",
       "      <th>2022-04-01</th>\n",
       "      <td>-1137.0</td>\n",
       "    </tr>\n",
       "    <tr>\n",
       "      <th>2022-05-01</th>\n",
       "      <td>455.0</td>\n",
       "    </tr>\n",
       "    <tr>\n",
       "      <th>2022-06-01</th>\n",
       "      <td>-201.0</td>\n",
       "    </tr>\n",
       "    <tr>\n",
       "      <th>2022-07-01</th>\n",
       "      <td>574.0</td>\n",
       "    </tr>\n",
       "    <tr>\n",
       "      <th>2022-08-01</th>\n",
       "      <td>-4.0</td>\n",
       "    </tr>\n",
       "    <tr>\n",
       "      <th>2022-09-01</th>\n",
       "      <td>-378.0</td>\n",
       "    </tr>\n",
       "    <tr>\n",
       "      <th>2022-10-01</th>\n",
       "      <td>644.0</td>\n",
       "    </tr>\n",
       "    <tr>\n",
       "      <th>2022-11-01</th>\n",
       "      <td>1053.0</td>\n",
       "    </tr>\n",
       "  </tbody>\n",
       "</table>\n",
       "</div>"
      ],
      "text/plain": [
       "            quantity\n",
       "date                \n",
       "2021-12-01   -1525.0\n",
       "2022-01-01    1923.0\n",
       "2022-02-01    -812.0\n",
       "2022-03-01     637.0\n",
       "2022-04-01   -1137.0\n",
       "2022-05-01     455.0\n",
       "2022-06-01    -201.0\n",
       "2022-07-01     574.0\n",
       "2022-08-01      -4.0\n",
       "2022-09-01    -378.0\n",
       "2022-10-01     644.0\n",
       "2022-11-01    1053.0"
      ]
     },
     "execution_count": 15,
     "metadata": {},
     "output_type": "execute_result"
    }
   ],
   "source": [
    "Test = df1.tail(12)\n",
    "Test"
   ]
  },
  {
   "cell_type": "markdown",
   "id": "b5f9ae79",
   "metadata": {},
   "source": [
    "# Model Building"
   ]
  },
  {
   "cell_type": "markdown",
   "id": "d69b1f61",
   "metadata": {},
   "source": [
    "## 1. ACF Plot"
   ]
  },
  {
   "cell_type": "code",
   "execution_count": 16,
   "id": "a6ed7cfe",
   "metadata": {},
   "outputs": [
    {
     "data": {
      "image/png": "[encoded data removed]",
      "text/plain": [
       "<Figure size 640x480 with 1 Axes>"
      ]
     },
     "metadata": {},
     "output_type": "display_data"
    }
   ],
   "source": [
    "tsa_plots.plot_acf(df1.quantity, lags = 12);"
   ]
  },
  {
   "cell_type": "markdown",
   "id": "1a4b1d20",
   "metadata": {},
   "source": [
    "## 2. PACF Plot"
   ]
  },
  {
   "cell_type": "code",
   "execution_count": 17,
   "id": "f46541f2",
   "metadata": {},
   "outputs": [
    {
     "name": "stderr",
     "output_type": "stream",
     "text": [
      "C:\\Users\\hp\\anaconda3\\lib\\site-packages\\statsmodels\\graphics\\tsaplots.py:348: FutureWarning: The default method 'yw' can produce PACF values outside of the [-1,1] interval. After 0.13, the default will change tounadjusted Yule-Walker ('ywm'). You can use this method now by setting method='ywm'.\n",
      "  warnings.warn(\n"
     ]
    },
    {
     "data": {
      "image/png": "[encoded data removed]",
      "text/plain": [
       "<Figure size 640x480 with 1 Axes>"
      ]
     },
     "metadata": {},
     "output_type": "display_data"
    }
   ],
   "source": [
    "tsa_plots.plot_pacf(df1.quantity,lags = 12);"
   ]
  },
  {
   "cell_type": "markdown",
   "id": "d4a4bf76",
   "metadata": {},
   "source": [
    "## 3. ARIMA Model"
   ]
  },
  {
   "cell_type": "code",
   "execution_count": 18,
   "id": "20c45c60",
   "metadata": {
    "scrolled": true
   },
   "outputs": [
    {
     "name": "stdout",
     "output_type": "stream",
     "text": [
      "                               SARIMAX Results                                \n",
      "==============================================================================\n",
      "Dep. Variable:               quantity   No. Observations:                   23\n",
      "Model:                 ARIMA(1, 1, 1)   Log Likelihood                -176.211\n",
      "Date:                Wed, 15 Feb 2023   AIC                            358.422\n",
      "Time:                        09:37:53   BIC                            361.695\n",
      "Sample:                    01-01-2020   HQIC                           359.193\n",
      "                         - 11-01-2021                                         \n",
      "Covariance Type:                  opg                                         \n",
      "==============================================================================\n",
      "                 coef    std err          z      P>|z|      [0.025      0.975]\n",
      "------------------------------------------------------------------------------\n",
      "ar.L1         -0.6744      0.173     -3.903      0.000      -1.013      -0.336\n",
      "ma.L1         -0.9995      0.363     -2.750      0.006      -1.712      -0.287\n",
      "sigma2      4.491e+05    8.1e-07   5.54e+11      0.000    4.49e+05    4.49e+05\n",
      "===================================================================================\n",
      "Ljung-Box (L1) (Q):                   0.13   Jarque-Bera (JB):                 0.66\n",
      "Prob(Q):                              0.72   Prob(JB):                         0.72\n",
      "Heteroskedasticity (H):               0.80   Skew:                             0.36\n",
      "Prob(H) (two-sided):                  0.77   Kurtosis:                         2.56\n",
      "===================================================================================\n",
      "\n",
      "Warnings:\n",
      "[1] Covariance matrix calculated using the outer product of gradients (complex-step).\n",
      "[2] Covariance matrix is singular or near-singular, with condition number 1.97e+27. Standard errors may be unstable.\n"
     ]
    },
    {
     "name": "stderr",
     "output_type": "stream",
     "text": [
      "C:\\Users\\hp\\anaconda3\\lib\\site-packages\\statsmodels\\tsa\\base\\tsa_model.py:471: ValueWarning: No frequency information was provided, so inferred frequency MS will be used.\n",
      "  self._init_dates(dates, freq)\n",
      "C:\\Users\\hp\\anaconda3\\lib\\site-packages\\statsmodels\\tsa\\base\\tsa_model.py:471: ValueWarning: No frequency information was provided, so inferred frequency MS will be used.\n",
      "  self._init_dates(dates, freq)\n",
      "C:\\Users\\hp\\anaconda3\\lib\\site-packages\\statsmodels\\tsa\\base\\tsa_model.py:471: ValueWarning: No frequency information was provided, so inferred frequency MS will be used.\n",
      "  self._init_dates(dates, freq)\n"
     ]
    }
   ],
   "source": [
    "model1 = ARIMA(Train.quantity, order = (1,1,1))\n",
    "res1 = model1.fit()\n",
    "print(res1.summary())"
   ]
  },
  {
   "cell_type": "code",
   "execution_count": 19,
   "id": "f8828123",
   "metadata": {},
   "outputs": [
    {
     "data": {
      "text/plain": [
       "2021-12-01   -484.572300\n",
       "2022-01-01    551.700683\n",
       "2022-02-01   -147.167633\n",
       "2022-03-01    324.153082\n",
       "2022-04-01      6.291747\n",
       "2022-05-01    220.659215\n",
       "2022-06-01     76.088591\n",
       "2022-07-01    173.587831\n",
       "2022-08-01    107.833797\n",
       "2022-09-01    152.178687\n",
       "2022-10-01    122.272244\n",
       "2022-11-01    142.441317\n",
       "Freq: MS, Name: predicted_mean, dtype: float64"
      ]
     },
     "execution_count": 19,
     "metadata": {},
     "output_type": "execute_result"
    }
   ],
   "source": [
    "start_index = len(Train)\n",
    "end_index = start_index + 11\n",
    "forecast_test = res1.predict(start = start_index, end = end_index)\n",
    "forecast_test"
   ]
  },
  {
   "cell_type": "code",
   "execution_count": 20,
   "id": "08841d08",
   "metadata": {},
   "outputs": [
    {
     "name": "stdout",
     "output_type": "stream",
     "text": [
      "Test RMSE: 735.803\n"
     ]
    }
   ],
   "source": [
    "rmse_test = sqrt(mean_squared_error(Test.quantity, forecast_test))\n",
    "print('Test RMSE: %.3f' % rmse_test)"
   ]
  },
  {
   "cell_type": "code",
   "execution_count": 21,
   "id": "e1213db9",
   "metadata": {},
   "outputs": [
    {
     "data": {
      "image/png": "[encoded data removed]",
      "text/plain": [
       "<Figure size 640x480 with 1 Axes>"
      ]
     },
     "metadata": {},
     "output_type": "display_data"
    }
   ],
   "source": [
    "pyplot.plot(Test.quantity)\n",
    "pyplot.plot(forecast_test, color='red')\n",
    "pyplot.show()"
   ]
  },
  {
   "cell_type": "markdown",
   "id": "f9021ede",
   "metadata": {},
   "source": [
    "## 4. Auto ARIMA"
   ]
  },
  {
   "cell_type": "code",
   "execution_count": 22,
   "id": "0e623866",
   "metadata": {},
   "outputs": [
    {
     "name": "stdout",
     "output_type": "stream",
     "text": [
      "Performing stepwise search to minimize aic\n",
      " ARIMA(2,0,2)(0,0,0)[0] intercept   : AIC=inf, Time=0.34 sec\n",
      " ARIMA(0,0,0)(0,0,0)[0] intercept   : AIC=381.680, Time=0.03 sec\n",
      " ARIMA(1,0,0)(0,0,0)[0] intercept   : AIC=370.127, Time=0.07 sec\n",
      " ARIMA(0,0,1)(0,0,0)[0] intercept   : AIC=inf, Time=0.07 sec\n",
      " ARIMA(0,0,0)(0,0,0)[0]             : AIC=380.533, Time=0.03 sec\n",
      " ARIMA(2,0,0)(0,0,0)[0] intercept   : AIC=371.776, Time=0.10 sec\n",
      " ARIMA(1,0,1)(0,0,0)[0] intercept   : AIC=inf, Time=0.13 sec\n",
      " ARIMA(2,0,1)(0,0,0)[0] intercept   : AIC=inf, Time=0.20 sec\n",
      " ARIMA(1,0,0)(0,0,0)[0]             : AIC=370.361, Time=0.04 sec\n",
      "\n",
      "Best model:  ARIMA(1,0,0)(0,0,0)[0] intercept\n",
      "Total fit time: 1.044 seconds\n"
     ]
    }
   ],
   "source": [
    "import pmdarima as pm\n",
    "ar_model = pm.auto_arima(Train.quantity, trace=True, suppress_warnings=True)"
   ]
  },
  {
   "cell_type": "code",
   "execution_count": 23,
   "id": "e9ef323b",
   "metadata": {},
   "outputs": [
    {
     "name": "stdout",
     "output_type": "stream",
     "text": [
      "                               SARIMAX Results                                \n",
      "==============================================================================\n",
      "Dep. Variable:               quantity   No. Observations:                   23\n",
      "Model:                 ARIMA(1, 0, 0)   Log Likelihood                -182.065\n",
      "Date:                Wed, 15 Feb 2023   AIC                            370.129\n",
      "Time:                        09:37:57   BIC                            373.536\n",
      "Sample:                    01-01-2020   HQIC                           370.986\n",
      "                         - 11-01-2021                                         \n",
      "Covariance Type:                  opg                                         \n",
      "==============================================================================\n",
      "                 coef    std err          z      P>|z|      [0.025      0.975]\n",
      "------------------------------------------------------------------------------\n",
      "const        121.1711     91.444      1.325      0.185     -58.056     300.398\n",
      "ar.L1         -0.7297      0.155     -4.719      0.000      -1.033      -0.427\n",
      "sigma2      4.198e+05   1.48e+05      2.832      0.005    1.29e+05     7.1e+05\n",
      "===================================================================================\n",
      "Ljung-Box (L1) (Q):                   0.02   Jarque-Bera (JB):                 0.85\n",
      "Prob(Q):                              0.90   Prob(JB):                         0.65\n",
      "Heteroskedasticity (H):               1.14   Skew:                             0.41\n",
      "Prob(H) (two-sided):                  0.86   Kurtosis:                         2.55\n",
      "===================================================================================\n",
      "\n",
      "Warnings:\n",
      "[1] Covariance matrix calculated using the outer product of gradients (complex-step).\n"
     ]
    },
    {
     "name": "stderr",
     "output_type": "stream",
     "text": [
      "C:\\Users\\hp\\anaconda3\\lib\\site-packages\\statsmodels\\tsa\\base\\tsa_model.py:471: ValueWarning: No frequency information was provided, so inferred frequency MS will be used.\n",
      "  self._init_dates(dates, freq)\n",
      "C:\\Users\\hp\\anaconda3\\lib\\site-packages\\statsmodels\\tsa\\base\\tsa_model.py:471: ValueWarning: No frequency information was provided, so inferred frequency MS will be used.\n",
      "  self._init_dates(dates, freq)\n",
      "C:\\Users\\hp\\anaconda3\\lib\\site-packages\\statsmodels\\tsa\\base\\tsa_model.py:471: ValueWarning: No frequency information was provided, so inferred frequency MS will be used.\n",
      "  self._init_dates(dates, freq)\n"
     ]
    }
   ],
   "source": [
    "model = ARIMA(Train.quantity, order = (1, 0, 0))\n",
    "res3 = model.fit()\n",
    "print(res3.summary())"
   ]
  },
  {
   "cell_type": "code",
   "execution_count": 24,
   "id": "fe54c437",
   "metadata": {},
   "outputs": [
    {
     "data": {
      "text/plain": [
       "2021-12-01   -558.090004\n",
       "2022-01-01    616.853774\n",
       "2022-02-01   -240.547290\n",
       "2022-03-01    385.130805\n",
       "2022-04-01    -71.450245\n",
       "2022-05-01    261.734274\n",
       "2022-06-01     18.596886\n",
       "2022-07-01    196.023465\n",
       "2022-08-01     66.548557\n",
       "2022-09-01    161.031311\n",
       "2022-10-01     92.083660\n",
       "2022-11-01    142.397378\n",
       "Freq: MS, Name: predicted_mean, dtype: float64"
      ]
     },
     "execution_count": 24,
     "metadata": {},
     "output_type": "execute_result"
    }
   ],
   "source": [
    "start_index = len(Train)\n",
    "end_index = start_index + 11\n",
    "forecast_best = res3.predict(start=start_index, end=end_index)\n",
    "forecast_best"
   ]
  },
  {
   "cell_type": "code",
   "execution_count": 25,
   "id": "c46d072a",
   "metadata": {},
   "outputs": [
    {
     "name": "stdout",
     "output_type": "stream",
     "text": [
      "Test RMSE: 696.665\n"
     ]
    }
   ],
   "source": [
    "rmse_best = sqrt(mean_squared_error(Test.quantity, forecast_best))\n",
    "print('Test RMSE: %.3f' % rmse_best)"
   ]
  },
  {
   "cell_type": "code",
   "execution_count": 26,
   "id": "cdbd234a",
   "metadata": {},
   "outputs": [
    {
     "data": {
      "image/png": "[encoded data removed]",
      "text/plain": [
       "<Figure size 640x480 with 1 Axes>"
      ]
     },
     "metadata": {},
     "output_type": "display_data"
    }
   ],
   "source": [
    "pyplot.plot(Test.quantity)\n",
    "pyplot.plot(forecast_best, color='red')\n",
    "pyplot.show()"
   ]
  },
  {
   "cell_type": "code",
   "execution_count": null,
   "id": "4f009d5d",
   "metadata": {},
   "outputs": [],
   "source": []
  }
 ],
 "metadata": {
  "kernelspec": {
   "display_name": "Python 3 (ipykernel)",
   "language": "python",
   "name": "python3"
  },
  "language_info": {
   "codemirror_mode": {
    "name": "ipython",
    "version": 3
   },
   "file_extension": ".py",
   "mimetype": "text/x-python",
   "name": "python",
   "nbconvert_exporter": "python",
   "pygments_lexer": "ipython3",
   "version": "3.9.12"
  }
 },
 "nbformat": 4,
 "nbformat_minor": 5
}
